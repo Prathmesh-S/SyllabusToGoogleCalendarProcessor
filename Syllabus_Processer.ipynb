{
  "nbformat": 4,
  "nbformat_minor": 0,
  "metadata": {
    "colab": {
      "provenance": [],
      "include_colab_link": true
    },
    "kernelspec": {
      "name": "python3",
      "display_name": "Python 3"
    },
    "language_info": {
      "name": "python"
    }
  },
  "cells": [
    {
      "cell_type": "markdown",
      "metadata": {
        "id": "view-in-github",
        "colab_type": "text"
      },
      "source": [
        "<a href=\"https://colab.research.google.com/github/apasingh/SyllabusToGoogleCalendarProcessor/blob/main/Syllabus_Processer.ipynb\" target=\"_parent\"><img src=\"https://colab.research.google.com/assets/colab-badge.svg\" alt=\"Open In Colab\"/></a>"
      ]
    },
    {
      "cell_type": "code",
      "source": [
        "from google.colab import drive\n",
        "drive.mount('/content/gdrive/')"
      ],
      "metadata": {
        "id": "Bz8MpiWaeX3d",
        "colab": {
          "base_uri": "https://localhost:8080/"
        },
        "outputId": "028063d3-5bc7-4b59-c7c3-aa3200b3024a"
      },
      "execution_count": null,
      "outputs": [
        {
          "output_type": "stream",
          "name": "stdout",
          "text": [
            "Drive already mounted at /content/gdrive/; to attempt to forcibly remount, call drive.mount(\"/content/gdrive/\", force_remount=True).\n"
          ]
        }
      ]
    },
    {
      "cell_type": "code",
      "source": [
        "!pip install tabula-py"
      ],
      "metadata": {
        "colab": {
          "base_uri": "https://localhost:8080/"
        },
        "id": "EDh9WeCkonrg",
        "outputId": "8cc26a82-0871-4c45-f5ed-bbbf1979e7c1"
      },
      "execution_count": null,
      "outputs": [
        {
          "output_type": "stream",
          "name": "stdout",
          "text": [
            "Looking in indexes: https://pypi.org/simple, https://us-python.pkg.dev/colab-wheels/public/simple/\n",
            "Requirement already satisfied: tabula-py in /usr/local/lib/python3.7/dist-packages (2.5.1)\n",
            "Requirement already satisfied: numpy in /usr/local/lib/python3.7/dist-packages (from tabula-py) (1.21.6)\n",
            "Requirement already satisfied: distro in /usr/local/lib/python3.7/dist-packages (from tabula-py) (1.8.0)\n",
            "Requirement already satisfied: pandas>=0.25.3 in /usr/local/lib/python3.7/dist-packages (from tabula-py) (1.3.5)\n",
            "Requirement already satisfied: python-dateutil>=2.7.3 in /usr/local/lib/python3.7/dist-packages (from pandas>=0.25.3->tabula-py) (2.8.2)\n",
            "Requirement already satisfied: pytz>=2017.3 in /usr/local/lib/python3.7/dist-packages (from pandas>=0.25.3->tabula-py) (2022.6)\n",
            "Requirement already satisfied: six>=1.5 in /usr/local/lib/python3.7/dist-packages (from python-dateutil>=2.7.3->pandas>=0.25.3->tabula-py) (1.15.0)\n"
          ]
        }
      ]
    },
    {
      "cell_type": "code",
      "source": [
        "!pip install git+https://github.com/pdftables/python-pdftables-api.git"
      ],
      "metadata": {
        "colab": {
          "base_uri": "https://localhost:8080/"
        },
        "id": "Y6iIX3kxordc",
        "outputId": "bb696f7e-330c-49b5-d0c9-9b0020d16429"
      },
      "execution_count": null,
      "outputs": [
        {
          "output_type": "stream",
          "name": "stdout",
          "text": [
            "Looking in indexes: https://pypi.org/simple, https://us-python.pkg.dev/colab-wheels/public/simple/\n",
            "Collecting git+https://github.com/pdftables/python-pdftables-api.git\n",
            "  Cloning https://github.com/pdftables/python-pdftables-api.git to /tmp/pip-req-build-gpzwir_v\n",
            "  Running command git clone -q https://github.com/pdftables/python-pdftables-api.git /tmp/pip-req-build-gpzwir_v\n",
            "Requirement already satisfied: requests in /usr/local/lib/python3.7/dist-packages (from pdftables-api==2.0.0) (2.23.0)\n",
            "Requirement already satisfied: certifi>=2017.4.17 in /usr/local/lib/python3.7/dist-packages (from requests->pdftables-api==2.0.0) (2022.9.24)\n",
            "Requirement already satisfied: urllib3!=1.25.0,!=1.25.1,<1.26,>=1.21.1 in /usr/local/lib/python3.7/dist-packages (from requests->pdftables-api==2.0.0) (1.24.3)\n",
            "Requirement already satisfied: chardet<4,>=3.0.2 in /usr/local/lib/python3.7/dist-packages (from requests->pdftables-api==2.0.0) (3.0.4)\n",
            "Requirement already satisfied: idna<3,>=2.5 in /usr/local/lib/python3.7/dist-packages (from requests->pdftables-api==2.0.0) (2.10)\n"
          ]
        }
      ]
    },
    {
      "cell_type": "code",
      "source": [
        "import tabula\n",
        "import pdftables_api\n",
        "import pandas as pd\n",
        "import os"
      ],
      "metadata": {
        "id": "dQ-MSTccouZe"
      },
      "execution_count": null,
      "outputs": []
    },
    {
      "cell_type": "code",
      "execution_count": null,
      "metadata": {
        "id": "NfAMthYkeFca",
        "colab": {
          "base_uri": "https://localhost:8080/"
        },
        "outputId": "307c384a-30a8-4724-88c0-63390edd460a"
      },
      "outputs": [
        {
          "output_type": "stream",
          "name": "stdout",
          "text": [
            "airi0319@bu.edu Airi Hatori.pdf\n",
            "['DistributionNotFound', '__builtins__', '__cached__', '__doc__', '__file__', '__loader__', '__name__', '__package__', '__path__', '__spec__', '__version__', 'convert_into', 'convert_into_by_batch', 'environment_info', 'errors', 'file_util', 'get_distribution', 'io', 'read_pdf', 'read_pdf_with_template', 'template', 'util']\n",
            "    Week lecture dates topics, exams, assignments, and special dates\n",
            "0    0.0           9/6              Course overview and introduction\n",
            "1    NaN           9/8                                   Java basics\n",
            "2    NaN           9/9                           Open Lab (optional)\n",
            "3    NaN           NaN                                           NaN\n",
            "4    1.0          9/13          Conditional execution and user input\n",
            "5    NaN          9/15         Static methods; loops; variable scope\n",
            "6    NaN          9/16                              Lab: Java Basics\n",
            "7    NaN           NaN                                           NaN\n",
            "8    2.0          9/19                             Problem Set 1 due\n",
            "9    NaN          9/20           Primitives, objects, and references\n",
            "10   NaN          9/22                         Arrays and references\n",
            "11   NaN          9/23                 Lab: Understanding references\n",
            "12   NaN           NaN                                           NaN\n",
            "13   NaN           NaN                 9/19: last day to add a class\n",
            "14   3.0          9/26                             Problem Set 2 due\n",
            "15   NaN          9/27                   Object-oriented programming\n",
            "16   NaN          9/29                  Inheritance and polymorphism\n",
            "17   NaN          9/30              Lab: Working with Custom classes\n",
            "18   NaN           NaN                                           NaN\n",
            "19   4.0          10/3                             Problem Set 3 due\n",
            "20   NaN          10/4                  Inheritance and polymorphism\n",
            "21   NaN          10/6                                     Recursion\n",
            "22   NaN          10/7                Lab: Understanding Inheritance\n",
            "23   NaN           NaN                                           NaN\n",
            "24   5.0         10/11          University runs on a Monday schedule\n",
            "25   NaN         10/10                             Problem Set 4 due\n",
            "26   NaN         10/13          Recursion and Recursive backtracking\n",
            "27   NaN         10/14                    Lab: Recursive programming\n",
            "28   NaN           NaN                                           NaN\n",
            "29   NaN           NaN         10/11: last day to drop without a 'W'\n",
            "30   6.0         10/18  Introduction to Big-O and algorithm analysis\n",
            "31   NaN         10/19                                     Midterm 1\n",
            "32   NaN         10/20                Sorting and algorithm analysis\n",
            "33   NaN         10/21                      Lab: Understanding Big-O\n",
            "34   NaN           NaN                                           NaN\n",
            "35   7.0         10/25        Sorting and algorithm analysis (cont.)\n",
            "36   NaN         10/27                  Introduction to Linked Lists\n",
            "37   NaN         10/28                       Lab: Sorting algorithms\n",
            "38   NaN           NaN                                           NaN\n",
            "39   8.0         10/31                             Problem Set 5 due\n",
            "40   NaN         11/1,                                  Linked lists\n",
            "41   NaN          11/3                        Linked list processing\n",
            "42   NaN          11/4                             Lab: Linked Lists\n"
          ]
        }
      ],
      "source": [
        "path = '/content/gdrive/MyDrive/Colab Notebooks/Syllabus/'\n",
        "file = os.listdir(path)[0]\n",
        "print(file)\n",
        "\n",
        "def main():\n",
        "    \"\"\"the main interaction loop\"\"\"\n",
        "    convert_to_CSV(path + file) \n",
        "    \n",
        "def convert_to_CSV(file):\n",
        "    # c = pdftables_api.Client('2rde0ezq4ky4')\n",
        "    # c.csv(file, 'syllabus')\n",
        "\n",
        "    # Read a PDF File\n",
        "    print(dir(tabula))\n",
        "    df = tabula.read_pdf(file, pages='all')[0]\n",
        "    # convert PDF into CSV\n",
        "    tabula.convert_into(file, \"syllabus.csv\", output_format=\"csv\", pages='all')\n",
        "    print(df)\n",
        "\n",
        "main()"
      ]
    },
    {
      "cell_type": "code",
      "source": [
        "import pandas as pd\n",
        "df = pd.read_csv('syllabus.csv')\n",
        "df = df.drop(df.iloc[:, 0:1],axis = 1)\n",
        "df = df.dropna(how = \"any\")\n",
        "df = df[df[\"topics, exams, assignments, and special dates\"].str.contains('due|Midterm')==True]\n",
        "df.to_csv(\"cleaned_sy.csv\", index = False)\n",
        "\n",
        "from datetime import date\n",
        "df = pd.read_csv('cleaned_sy.csv')\n",
        "today = date.today()\n",
        "year = today.year\n",
        "\n",
        "s = df[\"lecture dates\"].apply(lambda x: str(x)+\"/\"+str(year))# insert year later\n",
        "\n",
        "date = pd.to_datetime(s, infer_datetime_format=True) \n",
        "\n",
        "df.drop('lecture dates', 1, inplace=True)\n",
        "\n",
        "df['Start date'] = date\n",
        "\n",
        "df = df.rename(columns={df.columns[0]: 'Subject',df.columns[1]: 'Start date' })\n",
        "\n",
        "df.to_csv(str(file) + \".csv\", index = False)"
      ],
      "metadata": {
        "id": "hurWSA67eP1K",
        "colab": {
          "base_uri": "https://localhost:8080/"
        },
        "outputId": "b3ae4313-bdc2-4202-d8ff-9d0cfd9232f7"
      },
      "execution_count": null,
      "outputs": [
        {
          "output_type": "stream",
          "name": "stderr",
          "text": [
            "/usr/local/lib/python3.7/dist-packages/ipykernel_launcher.py:17: FutureWarning: In a future version of pandas all arguments of DataFrame.drop except for the argument 'labels' will be keyword-only\n"
          ]
        }
      ]
    },
    {
      "cell_type": "code",
      "source": [
        "shortened_name = file.split(' ')[0]\n",
        "renamed_file = str(shortened_name) + \".csv\"\n",
        "path = f'/content/gdrive/MyDrive/Colab Notebooks/AfterClean/{renamed_file}'\n",
        "\n",
        "# with open(path, 'w', 'utf-8-sig') as f:\n",
        "#   df.to_csv(f)\n",
        "\n",
        "with open(path, \"w\", 100, 'utf-8-sig') as f:\n",
        "  df.to_csv(f)"
      ],
      "metadata": {
        "id": "TTQsFGXio77r"
      },
      "execution_count": null,
      "outputs": []
    }
  ]
}